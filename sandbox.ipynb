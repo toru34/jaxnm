{
 "metadata": {
  "language_info": {
   "codemirror_mode": {
    "name": "ipython",
    "version": 3
   },
   "file_extension": ".py",
   "mimetype": "text/x-python",
   "name": "python",
   "nbconvert_exporter": "python",
   "pygments_lexer": "ipython3",
   "version": "3.9.2-final"
  },
  "orig_nbformat": 2,
  "kernelspec": {
   "name": "python3",
   "display_name": "Python 3.9.2 64-bit ('base': conda)",
   "metadata": {
    "interpreter": {
     "hash": "cac3cd588a0e1c7c08ca4ef8f94004ffe260530f898a0a2152fbb10b89bf7eb0"
    }
   }
  }
 },
 "nbformat": 4,
 "nbformat_minor": 2,
 "cells": [
  {
   "cell_type": "code",
   "execution_count": 3,
   "metadata": {},
   "outputs": [],
   "source": [
    "from typing import Literal\n",
    "\n",
    "import jax\n",
    "import jax.numpy as jnp\n",
    "\n",
    "from nmax.module import MetaModule"
   ]
  },
  {
   "cell_type": "code",
   "execution_count": null,
   "metadata": {},
   "outputs": [],
   "source": [
    "class ModuleTuple:\n",
    "\n",
    "    def __init__(self, modules):\n",
    "        self.modules = tuple(modules)\n",
    "    \n",
    "    def __call__(self, x):\n",
    "        for module in"
   ]
  }
 ]
}